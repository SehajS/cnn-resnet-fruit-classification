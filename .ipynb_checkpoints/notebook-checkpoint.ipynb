{
 "cells": [
  {
   "cell_type": "markdown",
   "metadata": {},
   "source": [
    "# Classifying Fruits from their Images\n",
    "\n",
    "This project aims at creating a deep learning model which predicts the names of the fruits by looking at their images. \n",
    "\n",
    "The dataset is taken from kaggle and can be accessed using this link: https://www.kaggle.com/moltean/fruits\n",
    "\n",
    "A complete walkthrough from downloading the dataset to the creating the ResNetmodel with extensive comments has been provided. In the end, we will achieve a model which has about 98% accuracy in correctly classifying fruits from their images."
   ]
  },
  {
   "cell_type": "markdown",
   "metadata": {},
   "source": [
    "## Import all the requried libraries/modules"
   ]
  },
  {
   "cell_type": "code",
   "execution_count": 7,
   "metadata": {},
   "outputs": [],
   "source": [
    "import opendatasets as od\n",
    "import os\n",
    "import shutil"
   ]
  },
  {
   "cell_type": "markdown",
   "metadata": {},
   "source": [
    "## Downloading the dataset"
   ]
  },
  {
   "cell_type": "code",
   "execution_count": 2,
   "metadata": {},
   "outputs": [
    {
     "name": "stdout",
     "output_type": "stream",
     "text": [
      "Please provide your Kaggle credentials to download this dataset. Learn more: http://bit.ly/kaggle-creds\n",
      "Your Kaggle username: singhsp\n",
      "Your Kaggle Key: ········\n"
     ]
    },
    {
     "name": "stderr",
     "output_type": "stream",
     "text": [
      "\r",
      "  0%|          | 0.00/760M [00:00<?, ?B/s]"
     ]
    },
    {
     "name": "stdout",
     "output_type": "stream",
     "text": [
      "Downloading fruits.zip to .\\fruits\n"
     ]
    },
    {
     "name": "stderr",
     "output_type": "stream",
     "text": [
      "100%|██████████| 760M/760M [01:22<00:00, 9.70MB/s] \n"
     ]
    },
    {
     "name": "stdout",
     "output_type": "stream",
     "text": [
      "\n"
     ]
    }
   ],
   "source": [
    "dataset_url = \"https://www.kaggle.com/moltean/fruits\"\n",
    "od.download(dataset_url)"
   ]
  },
  {
   "cell_type": "markdown",
   "metadata": {},
   "source": [
    "## Analyzing and Cleaning the downloaded dataset"
   ]
  },
  {
   "cell_type": "code",
   "execution_count": 5,
   "metadata": {},
   "outputs": [
    {
     "data": {
      "text/plain": [
       "['LICENSE', 'papers', 'readme.md', 'Test', 'test-multiple_fruits', 'Training']"
      ]
     },
     "execution_count": 5,
     "metadata": {},
     "output_type": "execute_result"
    }
   ],
   "source": [
    "data_direc = './fruits/fruits-360'\n",
    "os.listdir(data_direc)"
   ]
  },
  {
   "cell_type": "markdown",
   "metadata": {},
   "source": [
    "There are some files that one won't be needing in the project. Hence, one should remove them."
   ]
  },
  {
   "cell_type": "code",
   "execution_count": 8,
   "metadata": {},
   "outputs": [],
   "source": [
    "shutil.rmtree('./fruits/fruits-360/test-multiple_fruits')"
   ]
  },
  {
   "cell_type": "code",
   "execution_count": 9,
   "metadata": {},
   "outputs": [],
   "source": [
    "shutil.rmtree('./fruits/fruits-360/papers')"
   ]
  },
  {
   "cell_type": "code",
   "execution_count": 10,
   "metadata": {},
   "outputs": [],
   "source": [
    "train_data_direc = data_direc + '/Training'\n",
    "test_data_direc = data_direc + '/Test'"
   ]
  },
  {
   "cell_type": "markdown",
   "metadata": {},
   "source": [
    "Let us see the number of classes in the dataset and the number of images for each of the class"
   ]
  },
  {
   "cell_type": "code",
   "execution_count": 11,
   "metadata": {},
   "outputs": [
    {
     "name": "stdout",
     "output_type": "stream",
     "text": [
      "Apple Braeburn : 492\n",
      "Apple Crimson Snow : 444\n",
      "Apple Golden 1 : 480\n",
      "Apple Golden 2 : 492\n",
      "Apple Golden 3 : 481\n",
      "Apple Granny Smith : 492\n",
      "Apple Pink Lady : 456\n",
      "Apple Red 1 : 492\n",
      "Apple Red 2 : 492\n",
      "Apple Red 3 : 429\n",
      "Apple Red Delicious : 490\n",
      "Apple Red Yellow 1 : 492\n",
      "Apple Red Yellow 2 : 672\n",
      "Apricot : 492\n",
      "Avocado : 427\n",
      "Avocado ripe : 491\n",
      "Banana : 490\n",
      "Banana Lady Finger : 450\n",
      "Banana Red : 490\n",
      "Beetroot : 450\n",
      "Blueberry : 462\n",
      "Cactus fruit : 490\n",
      "Cantaloupe 1 : 492\n",
      "Cantaloupe 2 : 492\n",
      "Carambula : 490\n",
      "Cauliflower : 702\n",
      "Cherry 1 : 492\n",
      "Cherry 2 : 738\n",
      "Cherry Rainier : 738\n",
      "Cherry Wax Black : 492\n",
      "Cherry Wax Red : 492\n",
      "Cherry Wax Yellow : 492\n",
      "Chestnut : 450\n",
      "Clementine : 490\n",
      "Cocos : 490\n",
      "Corn : 450\n",
      "Corn Husk : 462\n",
      "Cucumber Ripe : 392\n",
      "Cucumber Ripe 2 : 468\n",
      "Dates : 490\n",
      "Eggplant : 468\n",
      "Fig : 702\n",
      "Ginger Root : 297\n",
      "Granadilla : 490\n",
      "Grape Blue : 984\n",
      "Grape Pink : 492\n",
      "Grape White : 490\n",
      "Grape White 2 : 490\n",
      "Grape White 3 : 492\n",
      "Grape White 4 : 471\n",
      "Grapefruit Pink : 490\n",
      "Grapefruit White : 492\n",
      "Guava : 490\n",
      "Hazelnut : 464\n",
      "Huckleberry : 490\n",
      "Kaki : 490\n",
      "Kiwi : 466\n",
      "Kohlrabi : 471\n",
      "Kumquats : 490\n",
      "Lemon : 492\n",
      "Lemon Meyer : 490\n",
      "Limes : 490\n",
      "Lychee : 490\n",
      "Mandarine : 490\n",
      "Mango : 490\n",
      "Mango Red : 426\n",
      "Mangostan : 300\n",
      "Maracuja : 490\n",
      "Melon Piel de Sapo : 738\n",
      "Mulberry : 492\n",
      "Nectarine : 492\n",
      "Nectarine Flat : 480\n",
      "Nut Forest : 654\n",
      "Nut Pecan : 534\n",
      "Onion Red : 450\n",
      "Onion Red Peeled : 445\n",
      "Onion White : 438\n",
      "Orange : 479\n",
      "Papaya : 492\n",
      "Passion Fruit : 490\n",
      "Peach : 492\n",
      "Peach 2 : 738\n",
      "Peach Flat : 492\n",
      "Pear : 492\n",
      "Pear 2 : 696\n",
      "Pear Abate : 490\n",
      "Pear Forelle : 702\n",
      "Pear Kaiser : 300\n",
      "Pear Monster : 490\n",
      "Pear Red : 666\n",
      "Pear Stone : 711\n",
      "Pear Williams : 490\n",
      "Pepino : 490\n",
      "Pepper Green : 444\n",
      "Pepper Orange : 702\n",
      "Pepper Red : 666\n",
      "Pepper Yellow : 666\n",
      "Physalis : 492\n",
      "Physalis with Husk : 492\n",
      "Pineapple : 490\n",
      "Pineapple Mini : 493\n",
      "Pitahaya Red : 490\n",
      "Plum : 447\n",
      "Plum 2 : 420\n",
      "Plum 3 : 900\n",
      "Pomegranate : 492\n",
      "Pomelo Sweetie : 450\n",
      "Potato Red : 450\n",
      "Potato Red Washed : 453\n",
      "Potato Sweet : 450\n",
      "Potato White : 450\n",
      "Quince : 490\n",
      "Rambutan : 492\n",
      "Raspberry : 490\n",
      "Redcurrant : 492\n",
      "Salak : 490\n",
      "Strawberry : 492\n",
      "Strawberry Wedge : 738\n",
      "Tamarillo : 490\n",
      "Tangelo : 490\n",
      "Tomato 1 : 738\n",
      "Tomato 2 : 672\n",
      "Tomato 3 : 738\n",
      "Tomato 4 : 479\n",
      "Tomato Cherry Red : 492\n",
      "Tomato Heart : 684\n",
      "Tomato Maroon : 367\n",
      "Tomato not Ripened : 474\n",
      "Tomato Yellow : 459\n",
      "Walnut : 735\n",
      "Watermelon : 475\n"
     ]
    }
   ],
   "source": [
    "for cls in os.listdir(train_data_direc):\n",
    "  print(cls, ':', len(os.listdir(train_data_direc + '/' + cls)))"
   ]
  },
  {
   "cell_type": "code",
   "execution_count": null,
   "metadata": {},
   "outputs": [],
   "source": []
  }
 ],
 "metadata": {
  "kernelspec": {
   "display_name": "py37-gpu",
   "language": "python",
   "name": "py37-gpu"
  },
  "language_info": {
   "codemirror_mode": {
    "name": "ipython",
    "version": 3
   },
   "file_extension": ".py",
   "mimetype": "text/x-python",
   "name": "python",
   "nbconvert_exporter": "python",
   "pygments_lexer": "ipython3",
   "version": "3.7.1"
  }
 },
 "nbformat": 4,
 "nbformat_minor": 4
}
